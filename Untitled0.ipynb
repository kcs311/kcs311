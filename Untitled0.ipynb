{
  "nbformat": 4,
  "nbformat_minor": 0,
  "metadata": {
    "colab": {
      "name": "Untitled0.ipynb",
      "provenance": [],
      "authorship_tag": "ABX9TyN7TOY44XRyejRMIPzOEllv",
      "include_colab_link": true
    },
    "kernelspec": {
      "name": "python3",
      "display_name": "Python 3"
    }
  },
  "cells": [
    {
      "cell_type": "markdown",
      "metadata": {
        "id": "view-in-github",
        "colab_type": "text"
      },
      "source": [
        "<a href=\"https://colab.research.google.com/github/kcs311/kcs311/blob/master/Untitled0.ipynb\" target=\"_parent\"><img src=\"https://colab.research.google.com/assets/colab-badge.svg\" alt=\"Open In Colab\"/></a>"
      ]
    },
    {
      "cell_type": "markdown",
      "metadata": {
        "id": "k0wWPKu5v2XO",
        "colab_type": "text"
      },
      "source": [
        "인공지능언어의 는 인공지능스피커\n",
        "*이탤릭체 텍*\n",
        "AI 스피커는 기본적으로 인간의 음성을 인식해 동작한다. 때문에 AI 스피커의 성능은 인간의 언어를 얼마나 잘 이해하느냐에 달려있을 것이다"
      ]
    },
    {
      "cell_type": "markdown",
      "metadata": {
        "id": "nqACpPB3Iws9",
        "colab_type": "text"
      },
      "source": [
        "인공지능 음성\n",
        "알렉사(Alexa)는 아마존에서 개발한 인공지능 플랫폼이다. 알렉사는 아마존 에코에 처음 사용되었다. 사용자는 아마존 에코를 이용해 알렉사와 의사소통을 할 수 있으며, 알렉사는 음악재생, 알람설정, 날씨정보 제공, 교통정보 제공 등 많은 기능들을 제공해준다.현재 알렉사는 독일어와 영어로만 의사소통이 가능하다. 하지만 2017년 안에 힌두어와 일본어가 추가 될것이라는 예상이 있다. 알렉사는 클라우드 기반으로 작동되기 때문에, 알렉사를 자주 사용할 수록, 알렉사는 사용자가 말하는 패턴, 단어, 개인적인 기호등을 학습해서 더 잘 받아들인다. 현재 아마존은 알렉사에 대한 소프트웨어정보를 공개하였고, 이러한 정보들을 이용해 여러 기업에서 가전제품, 자동차 등에 도입했다."
      ]
    },
    {
      "cell_type": "markdown",
      "metadata": {
        "id": "Zghv0K8gJYuq",
        "colab_type": "text"
      },
      "source": [
        "인공지능이미지\n",
        "얼굴인식, 손제스처 인식, 엣지감지, 이미지 분류, 객체추적"
      ]
    },
    {
      "cell_type": "markdown",
      "metadata": {
        "id": "bfXqV9bNJrCM",
        "colab_type": "text"
      },
      "source": [
        "테슬라 오토파일럿\n",
        "테슬라 자동차에서 사용되고 있는 ADAS 시스템으로서 운전자없이 자동차를 운행하는 것을 최종 목표로 하고 있다. 테슬라 자동차의 배타적 경쟁력중 하나로서, 테슬라의 오토파일럿 기능을 사용하려는 목적이 테슬라 자동차의 구매결정을 하는데 큰 요소중 하나이다"
      ]
    }
  ]
}